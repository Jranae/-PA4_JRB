{
 "cells": [
  {
   "cell_type": "markdown",
   "id": "30b56cda-b472-4735-88df-aa5212e0cd4e",
   "metadata": {},
   "source": [
    "### Programming Assignment 4\n",
    "### Jaleah Beason\n",
    "### Version 1.0"
   ]
  },
  {
   "cell_type": "code",
   "execution_count": 1,
   "id": "ab86e51e-41f3-4da2-849c-21a7c29f195a",
   "metadata": {},
   "outputs": [],
   "source": [
    "import random"
   ]
  },
  {
   "cell_type": "markdown",
   "id": "a0d49786-a66b-4802-92f9-5767c03dc2c8",
   "metadata": {},
   "source": [
    "### Problem 1"
   ]
  },
  {
   "cell_type": "code",
   "execution_count": 2,
   "id": "8071033f-9154-4c63-90bc-3a9a43c03765",
   "metadata": {},
   "outputs": [],
   "source": [
    "def swap_first_last(lst):\n",
    "    if len(lst) < 2:\n",
    "        return lst\n",
    "    else:\n",
    "        lst[0], lst[-1] = lst[-1], lst[0]\n",
    "        return lst\n",
    "random_list = [random.randint(1,100) for _ in range(10)]"
   ]
  },
  {
   "cell_type": "code",
   "execution_count": 3,
   "id": "504cf242-013a-4c34-99a1-0d1f15a35f07",
   "metadata": {
    "tags": []
   },
   "outputs": [
    {
     "name": "stdout",
     "output_type": "stream",
     "text": [
      "Swapped List: [62, 18, 14, 67, 34, 48, 53, 80, 35, 27]\n"
     ]
    }
   ],
   "source": [
    "# print(\"Original List:\", random_list)\n",
    "swapped_list = swap_first_last(random_list.copy())\n",
    "print(\"Swapped List:\", swapped_list)"
   ]
  },
  {
   "cell_type": "markdown",
   "id": "ff6f399f-8e67-4533-8faf-6ed3ecd3becd",
   "metadata": {},
   "source": [
    "### Problem 2"
   ]
  },
  {
   "cell_type": "code",
   "execution_count": 4,
   "id": "eaa38de5-071e-4392-944d-0d18a30c042e",
   "metadata": {},
   "outputs": [],
   "source": [
    "def encode(lst):\n",
    "    return[1 if num % 2 == 0 else -1 for num in lst]\n",
    "\n",
    "random_list = [random.randint(1,100) for _ in range (10)]"
   ]
  },
  {
   "cell_type": "code",
   "execution_count": 5,
   "id": "ad44a714-936e-48de-ad91-ece5565e7e60",
   "metadata": {
    "tags": []
   },
   "outputs": [
    {
     "name": "stdout",
     "output_type": "stream",
     "text": [
      "Original List: [55, 83, 19, 97, 73, 21, 58, 69, 87, 30]\n",
      "Encoded List: [-1, -1, -1, -1, -1, -1, 1, -1, -1, 1]\n"
     ]
    }
   ],
   "source": [
    "print(\"Original List:\", random_list)\n",
    "encoded_list = encode(random_list.copy())\n",
    "print(\"Encoded List:\", encoded_list)"
   ]
  },
  {
   "cell_type": "markdown",
   "id": "7285c6b7-c5c6-49ae-b25d-40e4a062282b",
   "metadata": {},
   "source": [
    "### Problem 3"
   ]
  },
  {
   "cell_type": "code",
   "execution_count": 6,
   "id": "a23defc5-e715-472c-bd0b-b5a151c40fb6",
   "metadata": {},
   "outputs": [],
   "source": [
    "def rotate(tup):\n",
    "    a, b, c = tup\n",
    "    return c, a, b\n",
    "\n",
    "original_tuple = ('John', 'Kennedy', 41)\n",
    "rotated_tuple = rotate(original_tuple)\n",
    "a, b, c = rotated_tuple"
   ]
  },
  {
   "cell_type": "code",
   "execution_count": 7,
   "id": "14007d06-fdc9-4683-af94-36b44424b350",
   "metadata": {
    "tags": []
   },
   "outputs": [
    {
     "name": "stdout",
     "output_type": "stream",
     "text": [
      "Original Tuple: ('John', 'Kennedy', 41)\n",
      "Rotated Tuple: (41, 'John', 'Kennedy')\n",
      "Unpacked Variables: a = 41 , b = John , c = Kennedy\n"
     ]
    }
   ],
   "source": [
    "print(\"Original Tuple:\", original_tuple)\n",
    "print(\"Rotated Tuple:\", rotated_tuple)\n",
    "print(\"Unpacked Variables: a =\", a, \", b =\",b, \", c =\", c)"
   ]
  },
  {
   "cell_type": "markdown",
   "id": "f4024621-3dab-44dc-8bbf-ea5d6a33bb06",
   "metadata": {},
   "source": [
    "### Problem 4"
   ]
  },
  {
   "cell_type": "code",
   "execution_count": 8,
   "id": "0627ed13-be20-4ac8-b1a6-ab55cd58624a",
   "metadata": {},
   "outputs": [],
   "source": [
    "def combine_presidents(first_names, last_names, numbers):\n",
    "    presidents = []\n",
    "    for first_name, last_name, number in zip(first_names, last_names, numbers):\n",
    "        presidents.append((first_name, last_name, number))\n",
    "    return presidents"
   ]
  },
  {
   "cell_type": "code",
   "execution_count": 9,
   "id": "f221d8fa-654b-4387-ba86-3385606542e1",
   "metadata": {},
   "outputs": [],
   "source": [
    "first_names = [\"William\", \"Theodore\", \"William\", \"Woodrow\", \"Warren\", \"Calvin\", \"Herbert\", \"Franklin\", \"Harry\", \"Dwight\", \"John\", \"Lyndon\"]\n",
    "last_names = [\"McKinley\", \"Roosevelt\", \"Taft\", \"Wilson\", \"Harding\", \"Coolidge\", \"Hoover\", \"Roosevelt\", \"Truman\", \"Eisenhower\", \"Kennedy\", \"Johnson\"]\n",
    "numbers = list(range(25, 43))\n",
    "\n",
    "presidents = combine_presidents(first_names, last_names, numbers)"
   ]
  },
  {
   "cell_type": "code",
   "execution_count": 10,
   "id": "286057b3-0a21-4c51-9bd7-3894ab18b1e3",
   "metadata": {
    "tags": []
   },
   "outputs": [
    {
     "name": "stdout",
     "output_type": "stream",
     "text": [
      "[('William', 'McKinley', 25), ('Theodore', 'Roosevelt', 26), ('William', 'Taft', 27), ('Woodrow', 'Wilson', 28), ('Warren', 'Harding', 29), ('Calvin', 'Coolidge', 30), ('Herbert', 'Hoover', 31), ('Franklin', 'Roosevelt', 32), ('Harry', 'Truman', 33), ('Dwight', 'Eisenhower', 34), ('John', 'Kennedy', 35), ('Lyndon', 'Johnson', 36)]\n"
     ]
    }
   ],
   "source": [
    "print(presidents)"
   ]
  },
  {
   "cell_type": "markdown",
   "id": "9f32e267-e4f8-44ca-ae6d-bf92e9638e34",
   "metadata": {},
   "source": [
    "### Problem 5"
   ]
  },
  {
   "cell_type": "code",
   "execution_count": 11,
   "id": "4fec0861-4a33-4195-989b-e7c2cc5ebf42",
   "metadata": {},
   "outputs": [],
   "source": [
    "def perfect_number(n):\n",
    "    # Initialize sum of divisors\n",
    "    sum_divisors = 0\n",
    "\n",
    "    for i in range(1, n//2 + 1):\n",
    "        if n % i == 0:\n",
    "            sum_divisors += i \n",
    "\n",
    "    return sum_divisors == n\n",
    "\n",
    "numbers = list(range(1, 101))\n",
    "perfect_numbers = list(filter(perfect_number, numbers))"
   ]
  },
  {
   "cell_type": "code",
   "execution_count": 12,
   "id": "8bec4817-aed8-46eb-ac2e-45b6f55ddfb3",
   "metadata": {
    "tags": []
   },
   "outputs": [
    {
     "name": "stdout",
     "output_type": "stream",
     "text": [
      "[6, 28]\n"
     ]
    }
   ],
   "source": [
    "print(perfect_numbers)"
   ]
  }
 ],
 "metadata": {
  "kernelspec": {
   "display_name": "Python 3 (ipykernel)",
   "language": "python",
   "name": "python3"
  },
  "language_info": {
   "codemirror_mode": {
    "name": "ipython",
    "version": 3
   },
   "file_extension": ".py",
   "mimetype": "text/x-python",
   "name": "python",
   "nbconvert_exporter": "python",
   "pygments_lexer": "ipython3",
   "version": "3.11.5"
  }
 },
 "nbformat": 4,
 "nbformat_minor": 5
}
